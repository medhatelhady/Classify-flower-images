{
 "cells": [
  {
   "cell_type": "markdown",
   "metadata": {},
   "source": [
    "# Developing an AI application\n",
    "\n",
    "Going forward, AI algorithms will be incorporated into more and more everyday applications. For example, you might want to include an image classifier in a smart phone app. To do this, you'd use a deep learning model trained on hundreds of thousands of images as part of the overall application architecture. A large part of software development in the future will be using these types of models as common parts of applications. \n",
    "\n",
    "In this project, you'll train an image classifier to recognize different species of flowers. You can imagine using something like this in a phone app that tells you the name of the flower your camera is looking at. In practice you'd train this classifier, then export it for use in your application. We'll be using [this dataset](http://www.robots.ox.ac.uk/~vgg/data/flowers/102/index.html) of 102 flower categories, you can see a few examples below. \n",
    "\n",
    "<img src='assets/Flowers.png' width=500px>\n",
    "\n",
    "The project is broken down into multiple steps:\n",
    "\n",
    "* Load and preprocess the image dataset\n",
    "* Train the image classifier on your dataset\n",
    "* Use the trained classifier to predict image content\n",
    "\n",
    "We'll lead you through each part which you'll implement in Python.\n",
    "\n",
    "When you've completed this project, you'll have an application that can be trained on any set of labeled images. Here your network will be learning about flowers and end up as a command line application. But, what you do with your new skills depends on your imagination and effort in building a dataset. For example, imagine an app where you take a picture of a car, it tells you what the make and model is, then looks up information about it. Go build your own dataset and make something new.\n",
    "\n",
    "First up is importing the packages you'll need. It's good practice to keep all the imports at the beginning of your code. As you work through this notebook and find you need to import a package, make sure to add the import up here."
   ]
  },
  {
   "cell_type": "code",
   "execution_count": 1,
   "metadata": {},
   "outputs": [],
   "source": [
    "# Imports here\n",
    "import torch\n",
    "from torchvision import datasets, transforms, models\n",
    "from torch import nn, optim\n",
    "import matplotlib.pyplot as plt\n",
    "import numpy as np\n",
    "import json\n",
    "from collections import OrderedDict\n",
    "from PIL import Image\n"
   ]
  },
  {
   "cell_type": "markdown",
   "metadata": {},
   "source": [
    "## Load the data\n",
    "\n",
    "Here you'll use `torchvision` to load the data ([documentation](http://pytorch.org/docs/0.3.0/torchvision/index.html)). The data should be included alongside this notebook, otherwise you can [download it here](https://s3.amazonaws.com/content.udacity-data.com/nd089/flower_data.tar.gz). The dataset is split into three parts, training, validation, and testing. For the training, you'll want to apply transformations such as random scaling, cropping, and flipping. This will help the network generalize leading to better performance. You'll also need to make sure the input data is resized to 224x224 pixels as required by the pre-trained networks.\n",
    "\n",
    "The validation and testing sets are used to measure the model's performance on data it hasn't seen yet. For this you don't want any scaling or rotation transformations, but you'll need to resize then crop the images to the appropriate size.\n",
    "\n",
    "The pre-trained networks you'll use were trained on the ImageNet dataset where each color channel was normalized separately. For all three sets you'll need to normalize the means and standard deviations of the images to what the network expects. For the means, it's `[0.485, 0.456, 0.406]` and for the standard deviations `[0.229, 0.224, 0.225]`, calculated from the ImageNet images.  These values will shift each color channel to be centered at 0 and range from -1 to 1.\n",
    " "
   ]
  },
  {
   "cell_type": "code",
   "execution_count": 2,
   "metadata": {},
   "outputs": [],
   "source": [
    "data_dir = 'flowers'\n",
    "train_dir = data_dir + '/train'\n",
    "valid_dir = data_dir + '/valid'\n",
    "test_dir = data_dir + '/test'"
   ]
  },
  {
   "cell_type": "code",
   "execution_count": 3,
   "metadata": {},
   "outputs": [],
   "source": [
    "# TODO: Define your transforms for the training, validation, and testing sets\n",
    "data_transforms = transforms.Compose([transforms.RandomRotation(30),\n",
    "                                     transforms.RandomResizedCrop(224),\n",
    "                                     transforms.RandomHorizontalFlip(),\n",
    "                                     transforms.ToTensor(),\n",
    "                                     transforms.Normalize([0.485, 0.456, 0.406], [0.229, 0.224, 0.225])\n",
    "                                     ])\n",
    "\n",
    "test_transforms = transforms.Compose([transforms.Resize(255),\n",
    "                                      transforms.CenterCrop(224),\n",
    "                                      transforms.ToTensor(),\n",
    "                                      transforms.Normalize([0.485, 0.456, 0.406],\n",
    "                                                           [0.229, 0.224, 0.225])])\n",
    "\n",
    "\n",
    "\n",
    "# Load the datasets with ImageFolder\n",
    "image_datasets = datasets.ImageFolder(train_dir, transform=data_transforms)\n",
    "\n",
    "test_image_datasets = datasets.ImageFolder(test_dir, transform = test_transforms)\n",
    "\n",
    "valid_image_datasets = datasets.ImageFolder(valid_dir, transform = test_transforms)\n",
    "# Using the image datasets and the trainforms, define the dataloaders\n",
    "dataloaders = torch.utils.data.DataLoader(image_datasets, batch_size= 64, shuffle=True)\n",
    "testloaders = torch.utils.data.DataLoader(test_image_datasets, batch_size= 64)\n",
    "validloaders = torch.utils.data.DataLoader(valid_image_datasets, batch_size = 64)"
   ]
  },
  {
   "cell_type": "code",
   "execution_count": 4,
   "metadata": {},
   "outputs": [
    {
     "name": "stdout",
     "output_type": "stream",
     "text": [
      "103\n",
      "13\n",
      "13\n"
     ]
    }
   ],
   "source": [
    "print(len(dataloaders))\n",
    "print(len(testloaders))\n",
    "print(len(validloaders))"
   ]
  },
  {
   "cell_type": "markdown",
   "metadata": {},
   "source": [
    "### Label mapping\n",
    "\n",
    "You'll also need to load in a mapping from category label to category name. You can find this in the file `cat_to_name.json`. It's a JSON object which you can read in with the [`json` module](https://docs.python.org/2/library/json.html). This will give you a dictionary mapping the integer encoded categories to the actual names of the flowers."
   ]
  },
  {
   "cell_type": "code",
   "execution_count": 5,
   "metadata": {},
   "outputs": [],
   "source": [
    "with open('cat_to_name.json', 'r') as f:\n",
    "    cat_to_name = json.load(f)"
   ]
  },
  {
   "cell_type": "code",
   "execution_count": 6,
   "metadata": {},
   "outputs": [
    {
     "data": {
      "text/plain": [
       "102"
      ]
     },
     "execution_count": 6,
     "metadata": {},
     "output_type": "execute_result"
    }
   ],
   "source": [
    "classes = len(cat_to_name)\n",
    "classes"
   ]
  },
  {
   "cell_type": "markdown",
   "metadata": {},
   "source": [
    "# Building and training the classifier\n",
    "\n",
    "Now that the data is ready, it's time to build and train the classifier. As usual, you should use one of the pretrained models from `torchvision.models` to get the image features. Build and train a new feed-forward classifier using those features.\n",
    "\n",
    "We're going to leave this part up to you. Refer to [the rubric](https://review.udacity.com/#!/rubrics/1663/view) for guidance on successfully completing this section. Things you'll need to do:\n",
    "\n",
    "* Load a [pre-trained network](http://pytorch.org/docs/master/torchvision/models.html) (If you need a starting point, the VGG networks work great and are straightforward to use)\n",
    "* Define a new, untrained feed-forward network as a classifier, using ReLU activations and dropout\n",
    "* Train the classifier layers using backpropagation using the pre-trained network to get the features\n",
    "* Track the loss and accuracy on the validation set to determine the best hyperparameters\n",
    "\n",
    "We've left a cell open for you below, but use as many as you need. Our advice is to break the problem up into smaller parts you can run separately. Check that each part is doing what you expect, then move on to the next. You'll likely find that as you work through each part, you'll need to go back and modify your previous code. This is totally normal!\n",
    "\n",
    "When training make sure you're updating only the weights of the feed-forward network. You should be able to get the validation accuracy above 70% if you build everything right. Make sure to try different hyperparameters (learning rate, units in the classifier, epochs, etc) to find the best model. Save those hyperparameters to use as default values in the next part of the project.\n",
    "\n",
    "One last important tip if you're using the workspace to run your code: To avoid having your workspace disconnect during the long-running tasks in this notebook, please read in the earlier page in this lesson called Intro to\n",
    "GPU Workspaces about Keeping Your Session Active. You'll want to include code from the workspace_utils.py module.\n",
    "\n",
    "**Note for Workspace users:** If your network is over 1 GB when saved as a checkpoint, there might be issues with saving backups in your workspace. Typically this happens with wide dense layers after the convolutional layers. If your saved checkpoint is larger than 1 GB (you can open a terminal and check with `ls -lh`), you should reduce the size of your hidden layers and train again."
   ]
  },
  {
   "cell_type": "markdown",
   "metadata": {},
   "source": [
    "## Testing your network\n",
    "\n",
    "It's good practice to test your trained network on test data, images the network has never seen either in training or validation. This will give you a good estimate for the model's performance on completely new images. Run the test images through the network and measure the accuracy, the same way you did validation. You should be able to reach around 70% accuracy on the test set if the model has been trained well."
   ]
  },
  {
   "cell_type": "code",
   "execution_count": 7,
   "metadata": {},
   "outputs": [
    {
     "name": "stderr",
     "output_type": "stream",
     "text": [
      "/opt/conda/lib/python3.6/site-packages/torchvision-0.2.1-py3.6.egg/torchvision/models/densenet.py:212: UserWarning: nn.init.kaiming_normal is now deprecated in favor of nn.init.kaiming_normal_.\n"
     ]
    }
   ],
   "source": [
    "model = models.densenet121(pretrained=True)\n",
    "\n",
    "# Use GPU if it's available\n",
    "device = torch.device(\"cuda\" if torch.cuda.is_available() else \"cpu\")\n",
    "\n",
    "\n",
    "for param in model.parameters():\n",
    "    param.requires_grad = False\n",
    "\n",
    "model.classifier = nn.Sequential(OrderedDict([ # use sequential to save time \n",
    "                          ('fc1', nn.Linear(1024, 600)),\n",
    "                          ('dropout', nn.Dropout(p=0.5)),\n",
    "                          ('relu1', nn.ReLU()),\n",
    "                          ('fc2', nn.Linear(600, 102)),\n",
    "                          ('output', nn.LogSoftmax(dim=1))\n",
    "                          ]))\n",
    "\n",
    "criterion = nn.NLLLoss()\n",
    "optimizer = optim.Adam(model.classifier.parameters(), lr=0.001)\n",
    "device = torch.device(\"cuda\" if torch.cuda.is_available() else \"cpu\")\n"
   ]
  },
  {
   "cell_type": "code",
   "execution_count": 8,
   "metadata": {},
   "outputs": [
    {
     "name": "stdout",
     "output_type": "stream",
     "text": [
      "Epoch: 1/10...  Training Loss: 4.5480 Validation Loss 0.3367 Accuracy: 7.2115\n",
      "Epoch: 1/10...  Training Loss: 4.2815 Validation Loss 0.3185 Accuracy: 14.9712\n",
      "Epoch: 1/10...  Training Loss: 3.8699 Validation Loss 0.3028 Accuracy: 31.0048\n",
      "Epoch: 1/10...  Training Loss: 3.5165 Validation Loss 0.2560 Accuracy: 37.4567\n",
      "Epoch: 1/10...  Training Loss: 3.0912 Validation Loss 0.2197 Accuracy: 41.7981\n",
      "Epoch: 1/10...  Training Loss: 2.5554 Validation Loss 0.1981 Accuracy: 51.2740\n",
      "Epoch: 1/10...  Training Loss: 2.4008 Validation Loss 0.1722 Accuracy: 57.0962\n",
      "Epoch: 1/10...  Training Loss: 2.0029 Validation Loss 0.1586 Accuracy: 63.4760\n",
      "Epoch: 1/10...  Training Loss: 1.8603 Validation Loss 0.1414 Accuracy: 68.7163\n",
      "Epoch: 1/10...  Training Loss: 1.6397 Validation Loss 0.1240 Accuracy: 74.3606\n",
      "Epoch: 2/10...  Training Loss: 0.9270 Validation Loss 0.1089 Accuracy: 74.6346\n",
      "Epoch: 2/10...  Training Loss: 1.3089 Validation Loss 0.1189 Accuracy: 77.1058\n",
      "Epoch: 2/10...  Training Loss: 1.2643 Validation Loss 0.0922 Accuracy: 79.4231\n",
      "Epoch: 2/10...  Training Loss: 1.1289 Validation Loss 0.1008 Accuracy: 81.9808\n",
      "Epoch: 2/10...  Training Loss: 1.1054 Validation Loss 0.0806 Accuracy: 82.7019\n",
      "Epoch: 2/10...  Training Loss: 0.9555 Validation Loss 0.0650 Accuracy: 83.6779\n",
      "Epoch: 2/10...  Training Loss: 0.8873 Validation Loss 0.0645 Accuracy: 81.8077\n",
      "Epoch: 2/10...  Training Loss: 0.8888 Validation Loss 0.0587 Accuracy: 83.4904\n",
      "Epoch: 2/10...  Training Loss: 0.9142 Validation Loss 0.0626 Accuracy: 85.9279\n",
      "Epoch: 2/10...  Training Loss: 0.7676 Validation Loss 0.0448 Accuracy: 86.8510\n",
      "Epoch: 3/10...  Training Loss: 0.2661 Validation Loss 0.0550 Accuracy: 84.8269\n",
      "Epoch: 3/10...  Training Loss: 0.6927 Validation Loss 0.0515 Accuracy: 85.9087\n",
      "Epoch: 3/10...  Training Loss: 0.6395 Validation Loss 0.0414 Accuracy: 87.2115\n",
      "Epoch: 3/10...  Training Loss: 0.6465 Validation Loss 0.0557 Accuracy: 87.4038\n",
      "Epoch: 3/10...  Training Loss: 0.6817 Validation Loss 0.0542 Accuracy: 88.0577\n",
      "Epoch: 3/10...  Training Loss: 0.6401 Validation Loss 0.0425 Accuracy: 90.4231\n",
      "Epoch: 3/10...  Training Loss: 0.6121 Validation Loss 0.0499 Accuracy: 88.0385\n",
      "Epoch: 3/10...  Training Loss: 0.6378 Validation Loss 0.0335 Accuracy: 89.1346\n",
      "Epoch: 3/10...  Training Loss: 0.6777 Validation Loss 0.0456 Accuracy: 89.4615\n",
      "Epoch: 3/10...  Training Loss: 0.6301 Validation Loss 0.0320 Accuracy: 90.8173\n",
      "Epoch: 4/10...  Training Loss: 0.0479 Validation Loss 0.0428 Accuracy: 90.9038\n",
      "Epoch: 4/10...  Training Loss: 0.5151 Validation Loss 0.0420 Accuracy: 89.4279\n",
      "Epoch: 4/10...  Training Loss: 0.5413 Validation Loss 0.0343 Accuracy: 90.6106\n",
      "Epoch: 4/10...  Training Loss: 0.5786 Validation Loss 0.0497 Accuracy: 89.0000\n",
      "Epoch: 4/10...  Training Loss: 0.4870 Validation Loss 0.0321 Accuracy: 90.2692\n",
      "Epoch: 4/10...  Training Loss: 0.5074 Validation Loss 0.0313 Accuracy: 90.3029\n",
      "Epoch: 4/10...  Training Loss: 0.4423 Validation Loss 0.0409 Accuracy: 90.2692\n",
      "Epoch: 4/10...  Training Loss: 0.5001 Validation Loss 0.0318 Accuracy: 90.6298\n",
      "Epoch: 4/10...  Training Loss: 0.5211 Validation Loss 0.0217 Accuracy: 92.0865\n",
      "Epoch: 4/10...  Training Loss: 0.4993 Validation Loss 0.0322 Accuracy: 90.6971\n",
      "Epoch: 4/10...  Training Loss: 0.4298 Validation Loss 0.0295 Accuracy: 91.5385\n",
      "Epoch: 5/10...  Training Loss: 0.3804 Validation Loss 0.0444 Accuracy: 90.8894\n",
      "Epoch: 5/10...  Training Loss: 0.3941 Validation Loss 0.0411 Accuracy: 91.7115\n",
      "Epoch: 5/10...  Training Loss: 0.4185 Validation Loss 0.0314 Accuracy: 92.4471\n",
      "Epoch: 5/10...  Training Loss: 0.4468 Validation Loss 0.0310 Accuracy: 89.9423\n",
      "Epoch: 5/10...  Training Loss: 0.4748 Validation Loss 0.0430 Accuracy: 91.5913\n",
      "Epoch: 5/10...  Training Loss: 0.4422 Validation Loss 0.0339 Accuracy: 92.0721\n",
      "Epoch: 5/10...  Training Loss: 0.4302 Validation Loss 0.0270 Accuracy: 93.2885\n",
      "Epoch: 5/10...  Training Loss: 0.3970 Validation Loss 0.0257 Accuracy: 91.8125\n",
      "Epoch: 5/10...  Training Loss: 0.4675 Validation Loss 0.0401 Accuracy: 92.8269\n",
      "Epoch: 5/10...  Training Loss: 0.4545 Validation Loss 0.0211 Accuracy: 92.2596\n",
      "Epoch: 6/10...  Training Loss: 0.2263 Validation Loss 0.0267 Accuracy: 91.1250\n",
      "Epoch: 6/10...  Training Loss: 0.3437 Validation Loss 0.0346 Accuracy: 92.1394\n",
      "Epoch: 6/10...  Training Loss: 0.4047 Validation Loss 0.0274 Accuracy: 92.7740\n",
      "Epoch: 6/10...  Training Loss: 0.3666 Validation Loss 0.0415 Accuracy: 91.7644\n",
      "Epoch: 6/10...  Training Loss: 0.3674 Validation Loss 0.0421 Accuracy: 92.1923\n",
      "Epoch: 6/10...  Training Loss: 0.4346 Validation Loss 0.0270 Accuracy: 93.2548\n",
      "Epoch: 6/10...  Training Loss: 0.3489 Validation Loss 0.0287 Accuracy: 94.0096\n",
      "Epoch: 6/10...  Training Loss: 0.3408 Validation Loss 0.0224 Accuracy: 92.0529\n",
      "Epoch: 6/10...  Training Loss: 0.3605 Validation Loss 0.0369 Accuracy: 93.1875\n",
      "Epoch: 6/10...  Training Loss: 0.4079 Validation Loss 0.0416 Accuracy: 92.4856\n",
      "Epoch: 7/10...  Training Loss: 0.0605 Validation Loss 0.0279 Accuracy: 92.3798\n",
      "Epoch: 7/10...  Training Loss: 0.3759 Validation Loss 0.0255 Accuracy: 94.7500\n",
      "Epoch: 7/10...  Training Loss: 0.3758 Validation Loss 0.0278 Accuracy: 92.5529\n",
      "Epoch: 7/10...  Training Loss: 0.3597 Validation Loss 0.0359 Accuracy: 93.4952\n",
      "Epoch: 7/10...  Training Loss: 0.3981 Validation Loss 0.0306 Accuracy: 92.8942\n",
      "Epoch: 7/10...  Training Loss: 0.3232 Validation Loss 0.0256 Accuracy: 93.6346\n",
      "Epoch: 7/10...  Training Loss: 0.3126 Validation Loss 0.0396 Accuracy: 91.6442\n",
      "Epoch: 7/10...  Training Loss: 0.3645 Validation Loss 0.0315 Accuracy: 92.7404\n",
      "Epoch: 7/10...  Training Loss: 0.3202 Validation Loss 0.0194 Accuracy: 93.6827\n",
      "Epoch: 7/10...  Training Loss: 0.3898 Validation Loss 0.0230 Accuracy: 94.3365\n",
      "Epoch: 7/10...  Training Loss: 0.3716 Validation Loss 0.0340 Accuracy: 93.7212\n",
      "Epoch: 8/10...  Training Loss: 0.3043 Validation Loss 0.0289 Accuracy: 92.1731\n",
      "Epoch: 8/10...  Training Loss: 0.2921 Validation Loss 0.0268 Accuracy: 92.9471\n",
      "Epoch: 8/10...  Training Loss: 0.3266 Validation Loss 0.0244 Accuracy: 92.3462\n",
      "Epoch: 8/10...  Training Loss: 0.2972 Validation Loss 0.0403 Accuracy: 92.1250\n",
      "Epoch: 8/10...  Training Loss: 0.3579 Validation Loss 0.0296 Accuracy: 92.2067\n",
      "Epoch: 8/10...  Training Loss: 0.3654 Validation Loss 0.0333 Accuracy: 92.9135\n",
      "Epoch: 8/10...  Training Loss: 0.3215 Validation Loss 0.0368 Accuracy: 92.4135\n",
      "Epoch: 8/10...  Training Loss: 0.4097 Validation Loss 0.0341 Accuracy: 92.9471\n",
      "Epoch: 8/10...  Training Loss: 0.3091 Validation Loss 0.0378 Accuracy: 92.9471\n",
      "Epoch: 8/10...  Training Loss: 0.3624 Validation Loss 0.0254 Accuracy: 93.1346\n",
      "Epoch: 9/10...  Training Loss: 0.1628 Validation Loss 0.0237 Accuracy: 93.4952\n",
      "Epoch: 9/10...  Training Loss: 0.3334 Validation Loss 0.0250 Accuracy: 93.7885\n",
      "Epoch: 9/10...  Training Loss: 0.3112 Validation Loss 0.0287 Accuracy: 93.9760\n",
      "Epoch: 9/10...  Training Loss: 0.3026 Validation Loss 0.0411 Accuracy: 93.1346\n",
      "Epoch: 9/10...  Training Loss: 0.3012 Validation Loss 0.0219 Accuracy: 94.0096\n",
      "Epoch: 9/10...  Training Loss: 0.2893 Validation Loss 0.0268 Accuracy: 93.4087\n",
      "Epoch: 9/10...  Training Loss: 0.3259 Validation Loss 0.0479 Accuracy: 93.3269\n",
      "Epoch: 9/10...  Training Loss: 0.2952 Validation Loss 0.0355 Accuracy: 94.1154\n",
      "Epoch: 9/10...  Training Loss: 0.3190 Validation Loss 0.0275 Accuracy: 93.1346\n",
      "Epoch: 9/10...  Training Loss: 0.3265 Validation Loss 0.0309 Accuracy: 92.7596\n",
      "Epoch: 10/10...  Training Loss: 0.1263 Validation Loss 0.0238 Accuracy: 93.1683\n",
      "Epoch: 10/10...  Training Loss: 0.2582 Validation Loss 0.0294 Accuracy: 93.6154\n",
      "Epoch: 10/10...  Training Loss: 0.3191 Validation Loss 0.0264 Accuracy: 93.3750\n",
      "Epoch: 10/10...  Training Loss: 0.2528 Validation Loss 0.0228 Accuracy: 93.8894\n",
      "Epoch: 10/10...  Training Loss: 0.2831 Validation Loss 0.0253 Accuracy: 93.7356\n",
      "Epoch: 10/10...  Training Loss: 0.2514 Validation Loss 0.0350 Accuracy: 93.7885\n",
      "Epoch: 10/10...  Training Loss: 0.2954 Validation Loss 0.0220 Accuracy: 93.6154\n",
      "Epoch: 10/10...  Training Loss: 0.3273 Validation Loss 0.0371 Accuracy: 92.9471\n",
      "Epoch: 10/10...  Training Loss: 0.2698 Validation Loss 0.0280 Accuracy: 93.2212\n",
      "Epoch: 10/10...  Training Loss: 0.2980 Validation Loss 0.0206 Accuracy: 93.8029\n",
      "Epoch: 10/10...  Training Loss: 0.3397 Validation Loss 0.0337 Accuracy: 93.7019\n"
     ]
    }
   ],
   "source": [
    "epochs = 10\n",
    "print_every = 10\n",
    "steps = 0\n",
    "\n",
    "# use gpu\n",
    "model.to(device)\n",
    "\n",
    "\n",
    "for e in range(epochs):\n",
    "    running_loss = 0\n",
    "    for inputs, labels in dataloaders: \n",
    "        steps += 1 \n",
    "        \n",
    "        inputs, labels = inputs.to(device), labels.to(device) \n",
    "        \n",
    "        optimizer.zero_grad()\n",
    "        \n",
    "        # Forward and backward passes\n",
    "        outputs = model.forward(inputs)\n",
    "        loss = criterion(outputs, labels)\n",
    "        loss.backward()\n",
    "        optimizer.step()\n",
    "        \n",
    "        running_loss += loss.item()\n",
    "        \n",
    "        if steps % print_every == 0:\n",
    "            model.eval()\n",
    "            valloss = 0\n",
    "            accuracy=0\n",
    "            \n",
    "            \n",
    "            for inputs, labels in validloaders: \n",
    "                    optimizer.zero_grad()\n",
    "\n",
    "                    inputs, labels = inputs.to(device) , labels.to(device)\n",
    "        \n",
    "                    with torch.no_grad():    \n",
    "                        outputs = model.forward(inputs)\n",
    "                        valloss = criterion(outputs,labels)\n",
    "                        \n",
    "                        ps = torch.exp(outputs).data\n",
    "                        top_p, top_class = ps.topk(1, dim=1)\n",
    "                        \n",
    "                        equality = top_class.view(*labels.shape) == labels\n",
    "                        accuracy += equality.type_as(torch.FloatTensor()).mean()\n",
    "\n",
    "            valloss = valloss / len(validloaders)\n",
    "            accuracy = accuracy /len(validloaders)\n",
    "\n",
    "            print(\"Epoch: {}/{}... \".format(e+1, epochs),\n",
    "                  \"Training Loss: {:.4f}\".format(running_loss/print_every),\n",
    "                  \"Validation Loss {:.4f}\".format(valloss),\n",
    "                  \"Accuracy: {:.4f}\".format(accuracy*100),\n",
    "                 )\n",
    "\n",
    "            running_loss = 0"
   ]
  },
  {
   "cell_type": "code",
   "execution_count": 7,
   "metadata": {},
   "outputs": [],
   "source": [
    "# test data using test loader\n",
    "def test_model(model, optimizer, criterion, testloaders, device):\n",
    "    model.to(device)\n",
    "    model.eval()\n",
    "    acc, equal = 0, 0 \n",
    "    for inputs, labels in testloaders:\n",
    "        optimizer.zero_grad()\n",
    "        #print(labels)\n",
    "        inputs, labels = inputs.to(device), labels.to(device)\n",
    "        \n",
    "        with torch.no_grad():\n",
    "            outputs = model.forward(inputs)\n",
    "            \n",
    "            losses = criterion(outputs, labels)\n",
    "            ps = torch.exp(outputs).data\n",
    "            top_p, top_class = ps.topk(1, dim = 1)\n",
    "            \n",
    "            equal = labels == top_class.view(*labels.shape)\n",
    "            #print(top_class.view(*labels.shape))\n",
    "            acc += equal.type_as(torch.FloatTensor()).mean().item()\n",
    "            \n",
    "    return (acc/len(testloaders)) * 100\n",
    "\n"
   ]
  },
  {
   "cell_type": "code",
   "execution_count": 8,
   "metadata": {},
   "outputs": [
    {
     "ename": "NameError",
     "evalue": "name 'model' is not defined",
     "output_type": "error",
     "traceback": [
      "\u001b[0;31m---------------------------------------------------------------------------\u001b[0m",
      "\u001b[0;31mNameError\u001b[0m                                 Traceback (most recent call last)",
      "\u001b[0;32m<ipython-input-8-428e1fdee297>\u001b[0m in \u001b[0;36m<module>\u001b[0;34m()\u001b[0m\n\u001b[1;32m      1\u001b[0m \u001b[0;31m# TODO: Do validation on the test set\u001b[0m\u001b[0;34m\u001b[0m\u001b[0;34m\u001b[0m\u001b[0m\n\u001b[0;32m----> 2\u001b[0;31m \u001b[0mtest_model\u001b[0m\u001b[0;34m(\u001b[0m\u001b[0mmodel\u001b[0m\u001b[0;34m,\u001b[0m \u001b[0moptimizer\u001b[0m\u001b[0;34m,\u001b[0m \u001b[0mcriterion\u001b[0m\u001b[0;34m,\u001b[0m \u001b[0mtestloaders\u001b[0m\u001b[0;34m,\u001b[0m \u001b[0mdevice\u001b[0m\u001b[0;34m)\u001b[0m\u001b[0;34m\u001b[0m\u001b[0m\n\u001b[0m",
      "\u001b[0;31mNameError\u001b[0m: name 'model' is not defined"
     ]
    }
   ],
   "source": [
    "# TODO: Do validation on the test set\n",
    "test_model(model, optimizer, criterion, testloaders, device)"
   ]
  },
  {
   "cell_type": "markdown",
   "metadata": {},
   "source": [
    "## Save the checkpoint\n",
    "\n",
    "Now that your network is trained, save the model so you can load it later for making predictions. You probably want to save other things such as the mapping of classes to indices which you get from one of the image datasets: `image_datasets['train'].class_to_idx`. You can attach this to the model as an attribute which makes inference easier later on.\n",
    "\n",
    "```model.class_to_idx = image_datasets['train'].class_to_idx```\n",
    "\n",
    "Remember that you'll want to completely rebuild the model later so you can use it for inference. Make sure to include any information you need in the checkpoint. If you want to load the model and keep training, you'll want to save the number of epochs as well as the optimizer state, `optimizer.state_dict`. You'll likely want to use this trained model in the next part of the project, so best to save it now."
   ]
  },
  {
   "cell_type": "code",
   "execution_count": 11,
   "metadata": {},
   "outputs": [],
   "source": [
    "filepath = 'checkpoint.pth'\n",
    "state = {\n",
    "    'arch': \"densenet121\",\n",
    "    'classifier': model.classifier,\n",
    "    'class_to_idx': image_datasets.class_to_idx,\n",
    "    'state_dict': model.state_dict(),\n",
    "    'optimizer': optimizer.state_dict(),\n",
    "    'criterion': criterion.state_dict()\n",
    "}\n",
    "torch.save(state, filepath)"
   ]
  },
  {
   "cell_type": "markdown",
   "metadata": {},
   "source": [
    "## Loading the checkpoint\n",
    "\n",
    "At this point it's good to write a function that can load a checkpoint and rebuild the model. That way you can come back to this project and keep working on it without having to retrain the network."
   ]
  },
  {
   "cell_type": "code",
   "execution_count": 7,
   "metadata": {},
   "outputs": [],
   "source": [
    "# TODO: Write a function that loads a checkpoint and rebuilds the model\n",
    "filepath = 'checkpoint.pth'\n",
    "\n",
    "def load_checkpoint(filepath):\n",
    "    saved_model = models.densenet121(pretrained=True)\n",
    "    if torch.cuda.is_available():\n",
    "        map_location=lambda storage, loc: storage.cuda()\n",
    "    else:\n",
    "        map_location='cpu'\n",
    "\n",
    "    #checkpoint = torch.load(pathname, map_location=map_location)\n",
    "\n",
    "    state = torch.load(filepath, map_location=map_location)\n",
    "    saved_model.classifier = state['classifier']\n",
    "    saved_model.load_state_dict(state['state_dict'])\n",
    "\n",
    "    criterion = nn.NLLLoss()\n",
    "    optimizer = optim.Adam(saved_model.classifier.parameters(), lr=0.001)\n",
    "    device = torch.device(\"cuda\" if torch.cuda.is_available() else \"cpu\")\n",
    "\n",
    "    criterion.load_state_dict(state['criterion'])\n",
    "    optimizer.load_state_dict(state['optimizer'])\n",
    "    \n",
    "    return saved_model"
   ]
  },
  {
   "cell_type": "code",
   "execution_count": 8,
   "metadata": {},
   "outputs": [
    {
     "name": "stderr",
     "output_type": "stream",
     "text": [
      "/opt/conda/lib/python3.6/site-packages/torchvision-0.2.1-py3.6.egg/torchvision/models/densenet.py:212: UserWarning: nn.init.kaiming_normal is now deprecated in favor of nn.init.kaiming_normal_.\n",
      "Downloading: \"https://download.pytorch.org/models/densenet121-a639ec97.pth\" to /root/.torch/models/densenet121-a639ec97.pth\n",
      "100%|██████████| 32342954/32342954 [00:00<00:00, 42314077.28it/s]\n"
     ]
    }
   ],
   "source": [
    "saved_model = load_checkpoint(filepath)"
   ]
  },
  {
   "cell_type": "markdown",
   "metadata": {},
   "source": [
    "## test loaded model to make sure it have same feature of original model"
   ]
  },
  {
   "cell_type": "code",
   "execution_count": 10,
   "metadata": {},
   "outputs": [
    {
     "data": {
      "text/plain": [
       "92.27234170987056"
      ]
     },
     "execution_count": 10,
     "metadata": {},
     "output_type": "execute_result"
    }
   ],
   "source": [
    "test_model(saved_model, optimizer, criterion, testloaders, device)"
   ]
  },
  {
   "cell_type": "markdown",
   "metadata": {},
   "source": [
    "# Inference for classification\n",
    "\n",
    "Now you'll write a function to use a trained network for inference. That is, you'll pass an image into the network and predict the class of the flower in the image. Write a function called `predict` that takes an image and a model, then returns the top $K$ most likely classes along with the probabilities. It should look like \n",
    "\n",
    "```python\n",
    "probs, classes = predict(image_path, model)\n",
    "print(probs)\n",
    "print(classes)\n",
    "> [ 0.01558163  0.01541934  0.01452626  0.01443549  0.01407339]\n",
    "> ['70', '3', '45', '62', '55']\n",
    "```\n",
    "\n",
    "First you'll need to handle processing the input image such that it can be used in your network. \n",
    "\n",
    "## Image Preprocessing\n",
    "\n",
    "You'll want to use `PIL` to load the image ([documentation](https://pillow.readthedocs.io/en/latest/reference/Image.html)). It's best to write a function that preprocesses the image so it can be used as input for the model. This function should process the images in the same manner used for training. \n",
    "\n",
    "First, resize the images where the shortest side is 256 pixels, keeping the aspect ratio. This can be done with the [`thumbnail`](http://pillow.readthedocs.io/en/3.1.x/reference/Image.html#PIL.Image.Image.thumbnail) or [`resize`](http://pillow.readthedocs.io/en/3.1.x/reference/Image.html#PIL.Image.Image.thumbnail) methods. Then you'll need to crop out the center 224x224 portion of the image.\n",
    "\n",
    "Color channels of images are typically encoded as integers 0-255, but the model expected floats 0-1. You'll need to convert the values. It's easiest with a Numpy array, which you can get from a PIL image like so `np_image = np.array(pil_image)`.\n",
    "\n",
    "As before, the network expects the images to be normalized in a specific way. For the means, it's `[0.485, 0.456, 0.406]` and for the standard deviations `[0.229, 0.224, 0.225]`. You'll want to subtract the means from each color channel, then divide by the standard deviation. \n",
    "\n",
    "And finally, PyTorch expects the color channel to be the first dimension but it's the third dimension in the PIL image and Numpy array. You can reorder dimensions using [`ndarray.transpose`](https://docs.scipy.org/doc/numpy-1.13.0/reference/generated/numpy.ndarray.transpose.html). The color channel needs to be first and retain the order of the other two dimensions."
   ]
  },
  {
   "cell_type": "code",
   "execution_count": 24,
   "metadata": {},
   "outputs": [],
   "source": [
    "def process_image(image):\n",
    "    \n",
    "    '''\n",
    "    load image and Scales, crops, and normalizes a PIL image for a PyTorch model\n",
    "    \n",
    "    Args:\n",
    "        image(str): store path of image\n",
    "    \n",
    "    Returns\n",
    "        returns an Numpy array represent the image\n",
    "    '''\n",
    "    # load the image \n",
    "    image = Image.open(image)\n",
    "    \n",
    "    # create transform\n",
    "    transform = transforms.Compose([\n",
    "        transforms.Resize(256),\n",
    "        transforms.CenterCrop(224),\n",
    "        transforms.ToTensor(),\n",
    "        transforms.Normalize(mean=[0.485, 0.456, 0.406],std=[0.229, 0.224, 0.225])\n",
    "    ])\n",
    "    \n",
    "    # apply transform on the image \n",
    "    image = transform(image)\n",
    "        \n",
    "    return image\n",
    "   "
   ]
  },
  {
   "cell_type": "markdown",
   "metadata": {},
   "source": [
    "To check your work, the function below converts a PyTorch tensor and displays it in the notebook. If your `process_image` function works, running the output through this function should return the original image (except for the cropped out portions)."
   ]
  },
  {
   "cell_type": "code",
   "execution_count": 25,
   "metadata": {},
   "outputs": [],
   "source": [
    "def imshow(image, ax=None, title=None):\n",
    "    \"\"\"Imshow for Tensor.\"\"\"\n",
    "    \n",
    "    image = process_image(image)\n",
    "    if ax is None:\n",
    "        fig, ax = plt.subplots()\n",
    "    \n",
    "    # PyTorch tensors assume the color channel is the first dimension\n",
    "    # but matplotlib assumes is the third dimension\n",
    "    image = image.numpy().transpose((1, 2, 0))\n",
    "    \n",
    "    # Undo preprocessing\n",
    "    mean = np.array([0.485, 0.456, 0.406])\n",
    "    std = np.array([0.229, 0.224, 0.225])\n",
    "    image = std * image + mean\n",
    "    \n",
    "    # Image needs to be clipped between 0 and 1 or it looks like noise when displayed\n",
    "    image = np.clip(image, 0, 1)\n",
    "    \n",
    "    ax[0].imshow(image)\n",
    "    \n",
    "    if title != None:\n",
    "        ax[0].set_title(title)\n",
    "    "
   ]
  },
  {
   "cell_type": "markdown",
   "metadata": {},
   "source": [
    "## Class Prediction\n",
    "\n",
    "Once you can get images in the correct format, it's time to write a function for making predictions with your model. A common practice is to predict the top 5 or so (usually called top-$K$) most probable classes. You'll want to calculate the class probabilities then find the $K$ largest values.\n",
    "\n",
    "To get the top $K$ largest values in a tensor use [`x.topk(k)`](http://pytorch.org/docs/master/torch.html#torch.topk). This method returns both the highest `k` probabilities and the indices of those probabilities corresponding to the classes. You need to convert from these indices to the actual class labels using `class_to_idx` which hopefully you added to the model or from an `ImageFolder` you used to load the data ([see here](#Save-the-checkpoint)). Make sure to invert the dictionary so you get a mapping from index to class as well.\n",
    "\n",
    "Again, this method should take a path to an image and a model checkpoint, then return the probabilities and classes.\n",
    "\n",
    "```python\n",
    "probs, classes = predict(image_path, model)\n",
    "print(probs)\n",
    "print(classes)\n",
    "> [ 0.01558163  0.01541934  0.01452626  0.01443549  0.01407339]\n",
    "> ['70', '3', '45', '62', '55']\n",
    "```"
   ]
  },
  {
   "cell_type": "code",
   "execution_count": 26,
   "metadata": {},
   "outputs": [
    {
     "data": {
      "text/plain": [
       "torchvision.models.densenet.DenseNet"
      ]
     },
     "execution_count": 26,
     "metadata": {},
     "output_type": "execute_result"
    }
   ],
   "source": [
    "type(saved_model)"
   ]
  },
  {
   "cell_type": "code",
   "execution_count": 27,
   "metadata": {},
   "outputs": [],
   "source": [
    "def predict(image_path, model, topk=5):   \n",
    "    '''\n",
    "    predict name of image using trained model \n",
    "    \n",
    "    Args:\n",
    "    image_path (str): path of image\n",
    "    model (torchvision.models.densenet.DenseNet):trained model to predict name of image\n",
    "    topk(int): count of higest predict names \n",
    "    \n",
    "    Return\n",
    "    tensor: higest classes\n",
    "    tensor: probabilites of classes\n",
    "    \n",
    "    '''\n",
    "    device = torch.device(\"cuda\" if torch.cuda.is_available() else \"cpu\")\n",
    "    model.to(device)\n",
    "    model.eval()\n",
    "    img = process_image(image_path)\n",
    "    img = img.numpy()\n",
    "    img = torch.from_numpy(np.array([img])).float()\n",
    "\n",
    "    with torch.no_grad():\n",
    "        output = model.forward(img.cuda())\n",
    "        \n",
    "    acc = torch.exp(output).data\n",
    "    \n",
    "    top_k, top_class = acc.topk(topk)\n",
    "    \n",
    "    return top_k, top_class"
   ]
  },
  {
   "cell_type": "code",
   "execution_count": 28,
   "metadata": {},
   "outputs": [],
   "source": [
    "def classify(top_k, top_class, cat_to_name, ax = None):\n",
    "    '''\n",
    "    plot bar plt whose y axis has class names and x axis has propability of being true\n",
    "    \n",
    "    Args:\n",
    "    \n",
    "    top_k (Tensor): probabilities of classes\n",
    "    top_class (Tensor): inedx of classes\n",
    "    cat_to_name (Dict): index and classes_name\n",
    "\n",
    "    '''\n",
    "    top_k = top_k[0].cpu().numpy()\n",
    "    top_class = top_class[0].cpu().numpy()\n",
    "    \n",
    "    \n",
    "    \n",
    "    idx_to_class = {val: key for key, val in image_datasets.class_to_idx.items()}\n",
    "    categories = [idx_to_class[idx] for idx in top_class]\n",
    "    labels = [cat_to_name[cat] for cat in categories]\n",
    "    \n",
    "    ax[1].barh(labels, top_k)\n",
    "    "
   ]
  },
  {
   "cell_type": "code",
   "execution_count": 29,
   "metadata": {},
   "outputs": [
    {
     "data": {
      "image/png": "[encoded data removed]",
      "text/plain": [
       "<matplotlib.figure.Figure at 0x7f16c4b08b38>"
      ]
     },
     "metadata": {
      "needs_background": "light"
     },
     "output_type": "display_data"
    }
   ],
   "source": [
    "image_path = 'flowers/test/1/image_06743.jpg'\n",
    "def plot_result(image_path):\n",
    "    fig, ax = plt.subplots(2, 1,figsize=(4,8))\n",
    "    image_name = cat_to_name[image_path.split('/')[-2]]\n",
    "    imshow(image_path, ax, image_name)\n",
    "    \n",
    "    top_k, top_class = predict(image_path, saved_model, 5)\n",
    "    classify(top_k, top_class, cat_to_name, ax)\n",
    "    \n",
    "plot_result(image_path)"
   ]
  },
  {
   "cell_type": "markdown",
   "metadata": {},
   "source": [
    "## Sanity Checking\n",
    "\n",
    "Now that you can use a trained model for predictions, check to make sure it makes sense. Even if the testing accuracy is high, it's always good to check that there aren't obvious bugs. Use `matplotlib` to plot the probabilities for the top 5 classes as a bar graph, along with the input image. It should look like this:\n",
    "\n",
    "<img src='assets/inference_example.png' width=300px>\n",
    "\n",
    "You can convert from the class integer encoding to actual flower names with the `cat_to_name.json` file (should have been loaded earlier in the notebook). To show a PyTorch tensor as an image, use the `imshow` function defined above."
   ]
  },
  {
   "cell_type": "code",
   "execution_count": null,
   "metadata": {},
   "outputs": [],
   "source": []
  }
 ],
 "metadata": {
  "kernelspec": {
   "display_name": "Python 3",
   "language": "python",
   "name": "python3"
  },
  "language_info": {
   "codemirror_mode": {
    "name": "ipython",
    "version": 3
   },
   "file_extension": ".py",
   "mimetype": "text/x-python",
   "name": "python",
   "nbconvert_exporter": "python",
   "pygments_lexer": "ipython3",
   "version": "3.6.3"
  }
 },
 "nbformat": 4,
 "nbformat_minor": 2
}
